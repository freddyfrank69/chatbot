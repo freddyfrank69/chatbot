{
  "cells": [
    {
      "cell_type": "markdown",
      "metadata": {},
      "source": [
        "#Set-up dependencies and API key"
      ]
    },
    {
      "cell_type": "code",
      "execution_count": 5,
      "metadata": {
        "colab": {
          "base_uri": "https://localhost:8080/"
        },
        "id": "vFBwQGT7z1By",
        "outputId": "d4ecb40c-0e9b-44a9-c133-6f5957b9352c"
      },
      "outputs": [
        {
          "name": "stdout",
          "output_type": "stream",
          "text": [
            "Note: you may need to restart the kernel to use updated packages.\n",
            "Note: you may need to restart the kernel to use updated packages.\n",
            "Note: you may need to restart the kernel to use updated packages.\n",
            "Note: you may need to restart the kernel to use updated packages.\n",
            "Note: you may need to restart the kernel to use updated packages.\n",
            "Note: you may need to restart the kernel to use updated packages.\n",
            "Note: you may need to restart the kernel to use updated packages.\n",
            "Note: you may need to restart the kernel to use updated packages.\n",
            "Note: you may need to restart the kernel to use updated packages.\n",
            "Note: you may need to restart the kernel to use updated packages.\n",
            "Note: you may need to restart the kernel to use updated packages.\n"
          ]
        }
      ],
      "source": [
        "%pip install -qU python-dotenv\n",
        "%pip install -qU langchain\n",
        "%pip install -qU langchain_openai\n",
        "%pip install -qU langchain_community\n",
        "%pip install -qU langchain-huggingface\n",
        "%pip install -qU langchain-google-genai\n",
        "%pip install -qU streamlit\n",
        "%pip install -qU faiss-cpu\n",
        "%pip install -qU sentence-transformers\n",
        "%pip install -qU pypdf\n",
        "%pip install -qU docx2txt\n"
      ]
    },
    {
      "cell_type": "code",
      "execution_count": 6,
      "metadata": {
        "id": "RtIkguHK24e3"
      },
      "outputs": [],
      "source": [
        "#Google API Key\n",
        "from dotenv import load_dotenv\n",
        "import os\n",
        "\n",
        "# Load environment variables from .env file\n",
        "load_dotenv()\n",
        "\n",
        "# Now you can access the API key like this\n",
        "google_api_key = os.getenv(\"GOOGLE_API_KEY\")"
      ]
    },
    {
      "cell_type": "markdown",
      "metadata": {
        "id": "syHv-ksNKthh"
      },
      "source": [
        "# Chatbot RAG"
      ]
    },
    {
      "cell_type": "markdown",
      "metadata": {
        "id": "905HICk2K6lj"
      },
      "source": [
        "## Xây dựng Vector database"
      ]
    },
    {
      "cell_type": "code",
      "execution_count": null,
      "metadata": {
        "id": "Edd2Ysb3Kc03"
      },
      "outputs": [],
      "source": [
        "#Load data from folder\n",
        "from langchain_community.document_loaders import DirectoryLoader, PyPDFLoader\n",
        "file_path = \"./docs/PBL6.pdf\"\n",
        "loader = PyPDFLoader(file_path)\n",
        "docs = loader.load()"
      ]
    },
    {
      "cell_type": "code",
      "execution_count": 8,
      "metadata": {
        "colab": {
          "base_uri": "https://localhost:8080/"
        },
        "id": "IlYujwL3NXna",
        "outputId": "66645b8d-113a-4825-df20-f0c7ba6bcf17"
      },
      "outputs": [
        {
          "name": "stdout",
          "output_type": "stream",
          "text": [
            "ĐẠI HỌC ĐÀ NẴNG \n",
            "ĐẠI HỌC BÁCH KHOA \n",
            "KHOA CÔNG NGHỆ THÔNG TIN \n",
            " \n",
            " \n",
            " \n",
            " \n",
            " \n",
            "PBL6: DỰ ÁN CHUYÊN NGÀNH \n",
            "CÔNG NGHỆ PHẦN MỀM \n",
            "Đề tài: HỆ THỐNG NGHE NHẠC TRỰC TUYỂN \n",
            "MELODIES \n",
            "GIẢNG VIÊN HƯỚNG DẪN: ThS. Mai Vă\n"
          ]
        }
      ],
      "source": [
        "print(docs[0].page_content[:200])"
      ]
    },
    {
      "cell_type": "code",
      "execution_count": 9,
      "metadata": {
        "colab": {
          "base_uri": "https://localhost:8080/"
        },
        "id": "zjo6psuDKs61",
        "outputId": "2943f589-f115-4060-b907-0443a26a7d33"
      },
      "outputs": [
        {
          "name": "stderr",
          "output_type": "stream",
          "text": [
            "c:\\Users\\fredd\\AppData\\Local\\Programs\\Python\\Python313\\Lib\\site-packages\\tqdm\\auto.py:21: TqdmWarning: IProgress not found. Please update jupyter and ipywidgets. See https://ipywidgets.readthedocs.io/en/stable/user_install.html\n",
            "  from .autonotebook import tqdm as notebook_tqdm\n"
          ]
        }
      ],
      "source": [
        "from langchain_text_splitters.character import  RecursiveCharacterTextSplitter\n",
        "from langchain_community.vectorstores import FAISS\n",
        "from langchain_huggingface import HuggingFaceEmbeddings\n",
        "\n",
        "text_splitter = RecursiveCharacterTextSplitter(\n",
        "      chunk_size=400,\n",
        "      chunk_overlap=200\n",
        ")\n",
        "doc_chunks = text_splitter.split_documents(docs)\n",
        "#Embedding các chunks này và đưa vào vector store\n",
        "embeddings = HuggingFaceEmbeddings()\n",
        "vectordb = FAISS.from_documents(doc_chunks, embeddings)"
      ]
    },
    {
      "cell_type": "code",
      "execution_count": 10,
      "metadata": {
        "id": "tTVEtpztPeWd"
      },
      "outputs": [],
      "source": [
        "# Lưu vector store\n",
        "vectordb.save_local(\"index\")"
      ]
    },
    {
      "cell_type": "markdown",
      "metadata": {
        "id": "3vK_omglU8Xm"
      },
      "source": [
        "## Xây dựng chain"
      ]
    },
    {
      "cell_type": "code",
      "execution_count": 11,
      "metadata": {
        "colab": {
          "base_uri": "https://localhost:8080/"
        },
        "id": "n8U0fLQwVzT0",
        "outputId": "84573545-5953-4655-8011-f4e21b9712fb"
      },
      "outputs": [
        {
          "name": "stderr",
          "output_type": "stream",
          "text": [
            "C:\\Users\\fredd\\AppData\\Local\\Temp\\ipykernel_7992\\1189939838.py:11: LangChainDeprecationWarning: Please see the migration guide at: https://python.langchain.com/docs/versions/migrating_memory/\n",
            "  memory = ConversationBufferMemory(\n"
          ]
        }
      ],
      "source": [
        "from langchain.memory import ConversationBufferMemory\n",
        "from langchain.chains import ConversationalRetrievalChain\n",
        "from langchain_google_genai import ChatGoogleGenerativeAI\n",
        "\n",
        "llm = ChatGoogleGenerativeAI(model=\"gemini-1.5-flash\")\n",
        "retriever = vectordb.as_retriever(\n",
        "        search_kwargs={\n",
        "                  \"k\": 2, # sl kq truy vấn trả về\n",
        "    }\n",
        "    )\n",
        "memory = ConversationBufferMemory(\n",
        "        llm=llm,\n",
        "        output_key=\"answer\",\n",
        "        memory_key=\"chat_history\",\n",
        "        return_messages=True\n",
        "    )\n",
        "chain = ConversationalRetrievalChain.from_llm(\n",
        "        llm=llm,\n",
        "        retriever=retriever,\n",
        "        chain_type=\"map_reduce\",\n",
        "        memory=memory,\n",
        "        verbose=True\n",
        "    )"
      ]
    },
    {
      "cell_type": "code",
      "execution_count": 1,
      "metadata": {
        "colab": {
          "base_uri": "https://localhost:8080/"
        },
        "id": "tRZ-uD1uXYYt",
        "outputId": "4222bbf3-3c48-48fb-eb61-57c13cb26f87"
      },
      "outputs": [
        {
          "ename": "NameError",
          "evalue": "name 'memory' is not defined",
          "output_type": "error",
          "traceback": [
            "\u001b[1;31m---------------------------------------------------------------------------\u001b[0m",
            "\u001b[1;31mNameError\u001b[0m                                 Traceback (most recent call last)",
            "Cell \u001b[1;32mIn[1], line 1\u001b[0m\n\u001b[1;32m----> 1\u001b[0m \u001b[43mmemory\u001b[49m\u001b[38;5;241m.\u001b[39mclear()\n\u001b[0;32m      2\u001b[0m \u001b[38;5;28;01mwhile\u001b[39;00m \u001b[38;5;28;01mTrue\u001b[39;00m:\n\u001b[0;32m      3\u001b[0m     user_input \u001b[38;5;241m=\u001b[39m \u001b[38;5;28minput\u001b[39m(\u001b[38;5;124m\"\u001b[39m\u001b[38;5;124muser: \u001b[39m\u001b[38;5;124m\"\u001b[39m)\n",
            "\u001b[1;31mNameError\u001b[0m: name 'memory' is not defined"
          ]
        }
      ],
      "source": [
        "memory.clear()\n",
        "while True:\n",
        "    user_input = input(\"user: \")\n",
        "    if user_input.lower() == \"exit\":\n",
        "        break\n",
        "\n",
        "    response = chain({\"question\": user_input, \"chat_history\": memory.chat_memory.messages})\n",
        "    assistant_response = response[\"answer\"]\n",
        "\n",
        "    print(\"assistant: \", assistant_response)"
      ]
    },
    {
      "cell_type": "code",
      "execution_count": null,
      "metadata": {
        "colab": {
          "base_uri": "https://localhost:8080/"
        },
        "id": "QNBV6ERTKtIa",
        "outputId": "82fe9f30-63dd-450e-8ff0-59217c4eb082"
      },
      "outputs": [
        {
          "data": {
            "text/plain": [
              "[HumanMessage(content=' Nội dung của khóa học lập trình python cơ bản ?', additional_kwargs={}, response_metadata={}),\n",
              " AIMessage(content='Khóa học dạy học viên sử dụng cấu trúc trong Python để xây dựng ứng dụng đơn giản.  Nó cũng rèn luyện kỹ năng lập trình, tư duy logic, và xây dựng nền tảng cơ bản trong Python để học về lập trình web, game, desktop, machine learning, và data science.  Tuy nhiên, nội dung khóa học không được mô tả đầy đủ.\\n', additional_kwargs={}, response_metadata={}),\n",
              " HumanMessage(content='Mục tiêu của nó là gì ?', additional_kwargs={}, response_metadata={}),\n",
              " AIMessage(content='Mục tiêu của khóa học là giúp học viên hiểu lập trình Python để ứng dụng trong công việc, học tập và cuộc sống;  sử dụng các cấu trúc Python để xây dựng ứng dụng; rèn luyện kỹ năng lập trình và tư duy logic; và xây dựng nền tảng vững chắc trong Python để học các kiến thức lập trình Web, Game, Desktop, Machine Learning, Data Science.\\n', additional_kwargs={}, response_metadata={})]"
            ]
          },
          "execution_count": 26,
          "metadata": {},
          "output_type": "execute_result"
        }
      ],
      "source": [
        "memory.chat_memory.messages"
      ]
    }
  ],
  "metadata": {
    "colab": {
      "provenance": []
    },
    "kernelspec": {
      "display_name": "Python 3",
      "name": "python3"
    },
    "language_info": {
      "codemirror_mode": {
        "name": "ipython",
        "version": 3
      },
      "file_extension": ".py",
      "mimetype": "text/x-python",
      "name": "python",
      "nbconvert_exporter": "python",
      "pygments_lexer": "ipython3",
      "version": "3.13.0"
    }
  },
  "nbformat": 4,
  "nbformat_minor": 0
}
